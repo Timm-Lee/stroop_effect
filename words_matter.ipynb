{
 "cells": [
  {
   "cell_type": "markdown",
   "metadata": {},
   "source": [
    "# 词义的力量 \n",
    "\n",
    "## —— 斯特鲁普效应实验数据分析 \n",
    "\n",
    "# Words matter? \n",
    "\n",
    "## —— Data Analysis of Stroop Effect Experiment "
   ]
  },
  {
   "cell_type": "markdown",
   "metadata": {},
   "source": [
    "## 1. 前言 Introduction"
   ]
  },
  {
   "cell_type": "markdown",
   "metadata": {},
   "source": [
    "### 1.1 斯特鲁普效应简介 Introduction of Stroop Effect \n",
    "\n",
    "当文字的颜色与字义不一致时，颜色会对反应时间产生干扰。1935年 John Ridley Stroop 发表了文章以后，该现象就被称为斯特鲁普效应（Stroop effect）[1]。具体的实验是：说出文字的颜色，而不是文字本身。比如“红色”这两个字以蓝色印刷（\"RED\" is printed in a blue colour），这时参与者读出“蓝色”（BLUE）[2]。当文字的字义与印刷的颜色一致时，称为 Congruent；不一致时，称为 Incongruent。实验发现 Incogruent 的时候，参与者阅读的时间更长，因此实验的结论是词义（semantic meaning）对颜色的识别产生了干扰，称为词义干扰（semantic interference）。"
   ]
  },
  {
   "cell_type": "markdown",
   "metadata": {},
   "source": [
    "### 1.2 本项目总览 Project overview \n",
    "\n",
    "现有一份斯特鲁普效应的实验数据（随文件所带）。在此基础上拟进行的工作包括：\n",
    "\n",
    "* 描述性统计\n",
    "  * 用描述统计的方法分析实验数据\n",
    "* 推论统计\n",
    "  * 建立假设\n",
    "  * 用样本数据进行假设检验\n",
    "  * 得出检验结果\n",
    "* 结论部分"
   ]
  },
  {
   "cell_type": "markdown",
   "metadata": {},
   "source": [
    "## 2. 描述性统计 Descriptive statistics\n",
    "\n",
    "两种实验数据，一种是 Congruent （词义与颜色一致），另一种是 Incongruent（词义与颜色不一致）。\n",
    "\n",
    "为了进行后面的工作，先引入必要的 Python 包。"
   ]
  },
  {
   "cell_type": "code",
   "execution_count": 23,
   "metadata": {
    "collapsed": true
   },
   "outputs": [],
   "source": [
    "import numpy as np\n",
    "import pandas as pd\n",
    "%matplotlib inline\n",
    "import matplotlib.pyplot as plt\n",
    "import seaborn as sns\n",
    "import scipy.stats as stats"
   ]
  },
  {
   "cell_type": "markdown",
   "metadata": {},
   "source": [
    "用 pandas 读入数据文件："
   ]
  },
  {
   "cell_type": "code",
   "execution_count": 3,
   "metadata": {
    "collapsed": true
   },
   "outputs": [],
   "source": [
    "stroop = pd.read_csv('stroopdata.csv')"
   ]
  },
  {
   "cell_type": "markdown",
   "metadata": {},
   "source": [
    "查看数据头部，确认数据读入正常："
   ]
  },
  {
   "cell_type": "code",
   "execution_count": 4,
   "metadata": {},
   "outputs": [
    {
     "data": {
      "text/html": [
       "<div>\n",
       "<style>\n",
       "    .dataframe thead tr:only-child th {\n",
       "        text-align: right;\n",
       "    }\n",
       "\n",
       "    .dataframe thead th {\n",
       "        text-align: left;\n",
       "    }\n",
       "\n",
       "    .dataframe tbody tr th {\n",
       "        vertical-align: top;\n",
       "    }\n",
       "</style>\n",
       "<table border=\"1\" class=\"dataframe\">\n",
       "  <thead>\n",
       "    <tr style=\"text-align: right;\">\n",
       "      <th></th>\n",
       "      <th>Congruent</th>\n",
       "      <th>Incongruent</th>\n",
       "    </tr>\n",
       "  </thead>\n",
       "  <tbody>\n",
       "    <tr>\n",
       "      <th>0</th>\n",
       "      <td>12.079</td>\n",
       "      <td>19.278</td>\n",
       "    </tr>\n",
       "    <tr>\n",
       "      <th>1</th>\n",
       "      <td>16.791</td>\n",
       "      <td>18.741</td>\n",
       "    </tr>\n",
       "    <tr>\n",
       "      <th>2</th>\n",
       "      <td>9.564</td>\n",
       "      <td>21.214</td>\n",
       "    </tr>\n",
       "    <tr>\n",
       "      <th>3</th>\n",
       "      <td>8.630</td>\n",
       "      <td>15.687</td>\n",
       "    </tr>\n",
       "    <tr>\n",
       "      <th>4</th>\n",
       "      <td>14.669</td>\n",
       "      <td>22.803</td>\n",
       "    </tr>\n",
       "  </tbody>\n",
       "</table>\n",
       "</div>"
      ],
      "text/plain": [
       "   Congruent  Incongruent\n",
       "0     12.079       19.278\n",
       "1     16.791       18.741\n",
       "2      9.564       21.214\n",
       "3      8.630       15.687\n",
       "4     14.669       22.803"
      ]
     },
     "execution_count": 4,
     "metadata": {},
     "output_type": "execute_result"
    }
   ],
   "source": [
    "stroop.head()"
   ]
  },
  {
   "cell_type": "markdown",
   "metadata": {},
   "source": [
    "用 numpy 分别对 Congruent 与 Incongruent 数据进行处理："
   ]
  },
  {
   "cell_type": "code",
   "execution_count": 5,
   "metadata": {
    "collapsed": true
   },
   "outputs": [],
   "source": [
    "congruent = np.array(stroop['Congruent'])\n",
    "incongruent = np.array(stroop['Incongruent'])"
   ]
  },
  {
   "cell_type": "markdown",
   "metadata": {},
   "source": [
    "### 2.1 Congruent 部分数据描述性统计\n",
    "\n",
    "**统计性描述结果：**"
   ]
  },
  {
   "cell_type": "code",
   "execution_count": 11,
   "metadata": {},
   "outputs": [
    {
     "name": "stdout",
     "output_type": "stream",
     "text": [
      "----- Congruent 部分 -----\n",
      "平均阅读时间（mean）： 14.051125\n",
      "方差（variance）： 12.6690290707\n",
      "标准差（standard deviation）： 3.55935795765\n",
      "最小值（min）： 8.63\n",
      "最大值（max）： 22.328\n",
      "第一四分位数（25th percentile）： 11.89525\n",
      "中位数（median）： 14.3565\n",
      "第三四分位数（75th percentile）： 16.20075\n",
      "样本数量（sample size）： 24\n"
     ]
    }
   ],
   "source": [
    "print(\"-\"*5,\"Congruent 部分\",\"-\"*5)\n",
    "print(\"平均阅读时间（mean）：\", congruent.mean())\n",
    "print(\"方差（variance）：\", congruent.var(ddof=1))  # ddof=1，表示除以 n-1\n",
    "print(\"标准差（standard deviation）：\", congruent.std(ddof=1))\n",
    "print(\"最小值（min）：\", congruent.min())\n",
    "print(\"最大值（max）：\", congruent.max())\n",
    "print(\"第一四分位数（25th percentile）：\", np.percentile(congruent, 25))\n",
    "print(\"中位数（median）：\", np.median(congruent))\n",
    "print(\"第三四分位数（75th percentile）：\", np.percentile(congruent, 75))\n",
    "print(\"样本数量（sample size）：\", congruent.size)"
   ]
  },
  {
   "cell_type": "markdown",
   "metadata": {},
   "source": [
    "**如果把数值都 round 到个位（round表示取值最靠近的整数）：**"
   ]
  },
  {
   "cell_type": "code",
   "execution_count": 12,
   "metadata": {},
   "outputs": [
    {
     "name": "stdout",
     "output_type": "stream",
     "text": [
      "----- Congruent 部分 -----\n",
      "平均阅读时间 14.0\n",
      "方差 13.0\n",
      "标准差 4.0\n",
      "最小值 9.0\n",
      "最大值 22.0\n",
      "第一四分位数 12.0\n",
      "中位数 14.0\n",
      "第三四分位数 16.0\n",
      "样本数量 24\n"
     ]
    }
   ],
   "source": [
    "print(\"-\"*5,\"Congruent 部分\",\"-\"*5)\n",
    "print(\"平均阅读时间\", np.round(congruent.mean()))\n",
    "print(\"方差\", np.round(congruent.var(ddof=1)))\n",
    "print(\"标准差\", np.round(congruent.std(ddof=1)))\n",
    "print(\"最小值\", np.round(congruent.min()))\n",
    "print(\"最大值\", np.round(congruent.max()))\n",
    "print(\"第一四分位数\", np.round(np.percentile(congruent, 25)))\n",
    "print(\"中位数\", np.round(np.median(congruent)))\n",
    "print(\"第三四分位数\", np.round(np.percentile(congruent, 75)))\n",
    "print(\"样本数量\", congruent.size)"
   ]
  },
  {
   "cell_type": "markdown",
   "metadata": {},
   "source": [
    "**数据的分布用盒形图（box plot）视觉化，没有出现异常值（outlier）。数据呈现正偏斜。**"
   ]
  },
  {
   "cell_type": "code",
   "execution_count": 10,
   "metadata": {},
   "outputs": [
    {
     "data": {
      "text/plain": [
       "<matplotlib.axes._subplots.AxesSubplot at 0x10c473320>"
      ]
     },
     "execution_count": 10,
     "metadata": {},
     "output_type": "execute_result"
    },
    {
     "data": {
      "image/png": "[encoded data removed]",
      "text/plain": [
       "<matplotlib.figure.Figure at 0x10c473588>"
      ]
     },
     "metadata": {},
     "output_type": "display_data"
    }
   ],
   "source": [
    "sns.boxplot(data=stroop['Congruent'], orient='h')"
   ]
  },
  {
   "cell_type": "markdown",
   "metadata": {},
   "source": [
    "**直方图发现 Congruent 的样本数据接近正态分布，有一定程度的正偏斜（positive skewed）**"
   ]
  },
  {
   "cell_type": "code",
   "execution_count": 11,
   "metadata": {},
   "outputs": [
    {
     "data": {
      "text/plain": [
       "<matplotlib.axes._subplots.AxesSubplot at 0x10c4c50f0>"
      ]
     },
     "execution_count": 11,
     "metadata": {},
     "output_type": "execute_result"
    },
    {
     "data": {
      "image/png": "[encoded data removed]",
      "text/plain": [
       "<matplotlib.figure.Figure at 0x10c64c1d0>"
      ]
     },
     "metadata": {},
     "output_type": "display_data"
    }
   ],
   "source": [
    "sns.distplot(stroop['Congruent'])"
   ]
  },
  {
   "cell_type": "markdown",
   "metadata": {},
   "source": [
    "**用 rug 图也可以看见数据在 10-15 区间的密度较大。**"
   ]
  },
  {
   "cell_type": "code",
   "execution_count": 17,
   "metadata": {},
   "outputs": [
    {
     "data": {
      "text/plain": [
       "<matplotlib.axes._subplots.AxesSubplot at 0x10c4b10f0>"
      ]
     },
     "execution_count": 17,
     "metadata": {},
     "output_type": "execute_result"
    },
    {
     "data": {
      "image/png": "[encoded data removed]",
      "text/plain": [
       "<matplotlib.figure.Figure at 0x10c6d2ba8>"
      ]
     },
     "metadata": {},
     "output_type": "display_data"
    }
   ],
   "source": [
    "sns.distplot(stroop['Congruent'], hist=False, rug=True)"
   ]
  },
  {
   "cell_type": "markdown",
   "metadata": {},
   "source": [
    "### 2.2 Incongruent 部分数据描述性统计\n",
    "\n",
    "**统计性描述结果：**"
   ]
  },
  {
   "cell_type": "code",
   "execution_count": 13,
   "metadata": {},
   "outputs": [
    {
     "name": "stdout",
     "output_type": "stream",
     "text": [
      "----- Incongruent 部分 -----\n",
      "平均阅读时间： 22.0159166667\n",
      "方差： 23.0117570362\n",
      "标准差： 4.79705712247\n",
      "最小值： 15.687\n",
      "最大值： 35.255\n",
      "第一四分位数 18.71675\n",
      "中位数： 21.0175\n",
      "第三四分位数 24.0515\n",
      "样本数据： 24\n"
     ]
    }
   ],
   "source": [
    "print(\"-\"*5,\"Incongruent 部分\",\"-\"*5)\n",
    "print(\"平均阅读时间：\", incongruent.mean())\n",
    "print(\"方差：\", incongruent.var(ddof=1))\n",
    "print(\"标准差：\", incongruent.std(ddof=1))\n",
    "print(\"最小值：\", incongruent.min())\n",
    "print(\"最大值：\", incongruent.max())\n",
    "print(\"第一四分位数\", np.percentile(incongruent, 25))\n",
    "print(\"中位数：\", np.median(incongruent))\n",
    "print(\"第三四分位数\", np.percentile(incongruent, 75))\n",
    "print(\"样本数据：\", incongruent.size)"
   ]
  },
  {
   "cell_type": "markdown",
   "metadata": {},
   "source": [
    "**盒形图中发现 Incongruent 数据中最大的两个值是异常值**"
   ]
  },
  {
   "cell_type": "code",
   "execution_count": 20,
   "metadata": {},
   "outputs": [
    {
     "data": {
      "text/plain": [
       "<matplotlib.axes._subplots.AxesSubplot at 0x10c8f3c88>"
      ]
     },
     "execution_count": 20,
     "metadata": {},
     "output_type": "execute_result"
    },
    {
     "data": {
      "image/png": "[encoded data removed]",
      "text/plain": [
       "<matplotlib.figure.Figure at 0x10c6d2d30>"
      ]
     },
     "metadata": {},
     "output_type": "display_data"
    }
   ],
   "source": [
    "sns.boxplot(data=stroop['Incongruent'], orient='h')"
   ]
  },
  {
   "cell_type": "markdown",
   "metadata": {},
   "source": [
    "用直方图发现出现了两个峰。"
   ]
  },
  {
   "cell_type": "code",
   "execution_count": 31,
   "metadata": {},
   "outputs": [
    {
     "data": {
      "text/plain": [
       "<matplotlib.axes._subplots.AxesSubplot at 0x10cd5b0b8>"
      ]
     },
     "execution_count": 31,
     "metadata": {},
     "output_type": "execute_result"
    },
    {
     "data": {
      "image/png": "[encoded data removed]",
      "text/plain": [
       "<matplotlib.figure.Figure at 0x10cc63908>"
      ]
     },
     "metadata": {},
     "output_type": "display_data"
    }
   ],
   "source": [
    "sns.distplot(stroop['Incongruent'])"
   ]
  },
  {
   "cell_type": "markdown",
   "metadata": {},
   "source": [
    "较小的峰是由两个异常值产生的。"
   ]
  },
  {
   "cell_type": "code",
   "execution_count": 32,
   "metadata": {},
   "outputs": [
    {
     "data": {
      "text/plain": [
       "<matplotlib.axes._subplots.AxesSubplot at 0x10cda5e10>"
      ]
     },
     "execution_count": 32,
     "metadata": {},
     "output_type": "execute_result"
    },
    {
     "data": {
      "image/png": "[encoded data removed]",
      "text/plain": [
       "<matplotlib.figure.Figure at 0x10cdaf080>"
      ]
     },
     "metadata": {},
     "output_type": "display_data"
    }
   ],
   "source": [
    "sns.distplot(stroop['Incongruent'], hist=False, rug=True)"
   ]
  },
  {
   "cell_type": "markdown",
   "metadata": {},
   "source": [
    "**设置函数删除异常值，输入参数分别是 **：\n",
    "* 需要删除异常值的 numpy array\n",
    "* 异常值常数（outlierConstant，一般是1.5）\n",
    "* IQR 表示 Interquartile ranges"
   ]
  },
  {
   "cell_type": "code",
   "execution_count": 16,
   "metadata": {
    "collapsed": true
   },
   "outputs": [],
   "source": [
    "def removeOutliers(nparray, outlierConstant):\n",
    "    \"\"\"\n",
    "    to remove the outliers for a numpy array,\n",
    "    return a new numpy array without outliers\n",
    "    \"\"\"\n",
    "    upper_quartile = np.percentile(nparray, 75)\n",
    "    lower_quartile = np.percentile(nparray, 25)\n",
    "    IQR = (upper_quartile - lower_quartile) * outlierConstant\n",
    "    quartileSet = (lower_quartile - IQR, upper_quartile + IQR)\n",
    "    #  print(IQR)\n",
    "    #  print (quartileSet)\n",
    "    resultList = []\n",
    "    for y in nparray.tolist():\n",
    "        if y > quartileSet[0] and y < quartileSet[1]:\n",
    "            resultList.append(y)\n",
    "    resultList_nparray = np.array(resultList)\n",
    "    return resultList_nparray"
   ]
  },
  {
   "cell_type": "markdown",
   "metadata": {},
   "source": [
    "Incongruent 数据，在删除异常值之前先备份，并且确定样本数量是 24。"
   ]
  },
  {
   "cell_type": "code",
   "execution_count": 14,
   "metadata": {},
   "outputs": [
    {
     "name": "stdout",
     "output_type": "stream",
     "text": [
      "[ 19.278  18.741  21.214  15.687  22.803  20.878  24.572  17.394  20.762\n",
      "  26.282  24.524  18.644  17.51   20.33   35.255  22.158  25.139  20.429\n",
      "  17.425  34.288  23.894  17.96   22.058  21.157]\n",
      "Sample size:  24\n"
     ]
    }
   ],
   "source": [
    "incongruent_old = incongruent\n",
    "print(incongruent_old)\n",
    "print(\"Sample size: \", incongruent_old.size)"
   ]
  },
  {
   "cell_type": "markdown",
   "metadata": {},
   "source": [
    "用 removeOUtliers 函数处理 incongruent 数据之后，可以发现数组中的两个异常值已经被删除。"
   ]
  },
  {
   "cell_type": "code",
   "execution_count": 17,
   "metadata": {},
   "outputs": [
    {
     "name": "stdout",
     "output_type": "stream",
     "text": [
      "[ 19.278  18.741  21.214  15.687  22.803  20.878  24.572  17.394  20.762\n",
      "  26.282  24.524  18.644  17.51   20.33   22.158  25.139  20.429  17.425\n",
      "  23.894  17.96   22.058  21.157]\n",
      "Sample size:  22\n"
     ]
    }
   ],
   "source": [
    "incongruent = removeOutliers(incongruent, 1.5) \n",
    "print(incongruent)\n",
    "print(\"Sample size: \", incongruent.size)"
   ]
  },
  {
   "cell_type": "markdown",
   "metadata": {},
   "source": [
    "再次用盒形图确认没有异常值了。"
   ]
  },
  {
   "cell_type": "code",
   "execution_count": 18,
   "metadata": {},
   "outputs": [
    {
     "data": {
      "text/plain": [
       "<matplotlib.axes._subplots.AxesSubplot at 0x10c626400>"
      ]
     },
     "execution_count": 18,
     "metadata": {},
     "output_type": "execute_result"
    },
    {
     "data": {
      "image/png": "[encoded data removed]",
      "text/plain": [
       "<matplotlib.figure.Figure at 0x10c62d5c0>"
      ]
     },
     "metadata": {},
     "output_type": "display_data"
    }
   ],
   "source": [
    "incongruent_dataframe = pd.DataFrame(data=incongruent)\n",
    "sns.boxplot(data=incongruent_dataframe, orient='h')"
   ]
  },
  {
   "cell_type": "code",
   "execution_count": 19,
   "metadata": {},
   "outputs": [
    {
     "data": {
      "text/plain": [
       "<matplotlib.axes._subplots.AxesSubplot at 0x10c6cf518>"
      ]
     },
     "execution_count": 19,
     "metadata": {},
     "output_type": "execute_result"
    },
    {
     "data": {
      "image/png": "[encoded data removed]",
      "text/plain": [
       "<matplotlib.figure.Figure at 0x10c62d3c8>"
      ]
     },
     "metadata": {},
     "output_type": "display_data"
    }
   ],
   "source": [
    "sns.distplot(incongruent_dataframe)"
   ]
  },
  {
   "cell_type": "markdown",
   "metadata": {},
   "source": [
    "取样分布也只剩一个峰，接近于正态分布。"
   ]
  },
  {
   "cell_type": "code",
   "execution_count": 20,
   "metadata": {},
   "outputs": [
    {
     "data": {
      "text/plain": [
       "<matplotlib.axes._subplots.AxesSubplot at 0x10c71e0b8>"
      ]
     },
     "execution_count": 20,
     "metadata": {},
     "output_type": "execute_result"
    },
    {
     "data": {
      "image/png": "[encoded data removed]",
      "text/plain": [
       "<matplotlib.figure.Figure at 0x10c6cf748>"
      ]
     },
     "metadata": {},
     "output_type": "display_data"
    }
   ],
   "source": [
    "sns.distplot(incongruent_dataframe, hist=False, rug=True)"
   ]
  },
  {
   "cell_type": "markdown",
   "metadata": {},
   "source": [
    "再次计算 Incongruent 部分描述性统计数据"
   ]
  },
  {
   "cell_type": "code",
   "execution_count": 21,
   "metadata": {},
   "outputs": [
    {
     "name": "stdout",
     "output_type": "stream",
     "text": [
      "----- Incongruent 部分 -----\n",
      "平均阅读时间： 20.8563181818\n",
      "方差： 8.27668308442\n",
      "标准差： 2.87692250233\n",
      "最小值： 15.687\n",
      "最大值： 26.282\n",
      "第一四分位数 18.66825\n",
      "中位数： 20.82\n",
      "第三四分位数 22.64175\n",
      "样本数据： 22\n"
     ]
    }
   ],
   "source": [
    "print(\"-\"*5,\"Incongruent 部分\",\"-\"*5)\n",
    "print(\"平均阅读时间：\", incongruent.mean())\n",
    "print(\"方差：\", incongruent.var(ddof=1))\n",
    "print(\"标准差：\", incongruent.std(ddof=1))\n",
    "print(\"最小值：\", incongruent.min())\n",
    "print(\"最大值：\", incongruent.max())\n",
    "print(\"第一四分位数\", np.percentile(incongruent, 25))\n",
    "print(\"中位数：\", np.median(incongruent))\n",
    "print(\"第三四分位数\", np.percentile(incongruent, 75))\n",
    "print(\"样本数据：\", incongruent.size)"
   ]
  },
  {
   "cell_type": "markdown",
   "metadata": {},
   "source": [
    "### 2.3 描述性统计部分总结\n",
    "对斯特鲁普效应实验的数据进行了描述性统计分析。用盒形图发现 Incongruent 在最大值方向有两个异常值。用 removeOutliers 函数删除了异常值，并形成新的 numpy array。\n",
    "\n",
    "最终得到两个数组如下所示。后面的推论统计部分将在这两个数据的基础上进行。"
   ]
  },
  {
   "cell_type": "code",
   "execution_count": 34,
   "metadata": {},
   "outputs": [
    {
     "data": {
      "text/plain": [
       "array([ 12.079,  16.791,   9.564,   8.63 ,  14.669,  12.238,  14.692,\n",
       "         8.987,   9.401,  14.48 ,  22.328,  15.298,  15.073,  16.929,\n",
       "        18.2  ,  12.13 ,  18.495,  10.639,  11.344,  12.369,  12.944,\n",
       "        14.233,  19.71 ,  16.004])"
      ]
     },
     "execution_count": 34,
     "metadata": {},
     "output_type": "execute_result"
    }
   ],
   "source": [
    "congruent"
   ]
  },
  {
   "cell_type": "code",
   "execution_count": 35,
   "metadata": {},
   "outputs": [
    {
     "data": {
      "text/plain": [
       "array([ 19.278,  18.741,  21.214,  15.687,  22.803,  20.878,  24.572,\n",
       "        17.394,  20.762,  26.282,  24.524,  18.644,  17.51 ,  20.33 ,\n",
       "        22.158,  25.139,  20.429,  17.425,  23.894,  17.96 ,  22.058,\n",
       "        21.157])"
      ]
     },
     "execution_count": 35,
     "metadata": {},
     "output_type": "execute_result"
    }
   ],
   "source": [
    "incongruent"
   ]
  },
  {
   "cell_type": "markdown",
   "metadata": {},
   "source": [
    "## 3. 推论统计 Inference statistics"
   ]
  },
  {
   "cell_type": "markdown",
   "metadata": {},
   "source": [
    "### 3.1 结论预览\n",
    "双样本的零假设为两种实验结果一样。T检验结果表明：实验结果的 t 值为-7.16，实验结果一致的概率 P = 7.30e-9，远小于 0.1%。即使按照 99.9% 的要求，零假设也被拒绝。结论意味着两种实验的结果并不一致，Congruent 实验的平均阅读时间确实小于 Incongruent 的平均阅读时间。"
   ]
  },
  {
   "cell_type": "code",
   "execution_count": 24,
   "metadata": {},
   "outputs": [
    {
     "data": {
      "text/plain": [
       "Ttest_indResult(statistic=-7.1570631082927409, pvalue=7.2985081437058256e-09)"
      ]
     },
     "execution_count": 24,
     "metadata": {},
     "output_type": "execute_result"
    }
   ],
   "source": [
    "stats.ttest_ind(a= congruent,\n",
    "                b= incongruent,\n",
    "                equal_var=False)"
   ]
  },
  {
   "cell_type": "markdown",
   "metadata": {},
   "source": [
    "即使 Incongruent 数据的异常值没有排除，也是一样的结论。"
   ]
  },
  {
   "cell_type": "code",
   "execution_count": 25,
   "metadata": {},
   "outputs": [
    {
     "data": {
      "text/plain": [
       "Ttest_indResult(statistic=-6.5322505539032285, pvalue=6.5101673904426379e-08)"
      ]
     },
     "execution_count": 25,
     "metadata": {},
     "output_type": "execute_result"
    }
   ],
   "source": [
    "stats.ttest_ind(a= congruent,\n",
    "                b= incongruent_old,\n",
    "                equal_var=False)"
   ]
  },
  {
   "cell_type": "markdown",
   "metadata": {},
   "source": [
    "下面按照推论统计的步骤详细推导。"
   ]
  },
  {
   "cell_type": "markdown",
   "metadata": {},
   "source": [
    "### 3.2 确定变量类型"
   ]
  },
  {
   "cell_type": "code",
   "execution_count": null,
   "metadata": {
    "collapsed": true
   },
   "outputs": [],
   "source": []
  }
 ],
 "metadata": {
  "kernelspec": {
   "display_name": "Python 3",
   "language": "python",
   "name": "python3"
  },
  "language_info": {
   "codemirror_mode": {
    "name": "ipython",
    "version": 3
   },
   "file_extension": ".py",
   "mimetype": "text/x-python",
   "name": "python",
   "nbconvert_exporter": "python",
   "pygments_lexer": "ipython3",
   "version": "3.5.3"
  }
 },
 "nbformat": 4,
 "nbformat_minor": 2
}
