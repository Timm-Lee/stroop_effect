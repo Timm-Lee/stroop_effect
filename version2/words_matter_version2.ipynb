{
 "cells": [
  {
   "cell_type": "markdown",
   "metadata": {},
   "source": [
    "# 词义的力量 \n",
    "\n",
    "## —— 斯特鲁普效应实验数据分析 \n",
    "\n",
    "# Words matter? \n",
    "\n",
    "## —— Data Analysis of Stroop Effect Experiment "
   ]
  },
  {
   "cell_type": "markdown",
   "metadata": {},
   "source": [
    "## 1. 前言 Introduction"
   ]
  },
  {
   "cell_type": "markdown",
   "metadata": {},
   "source": [
    "### 1.1 斯特鲁普效应简介 Introduction of Stroop Effect \n",
    "\n",
    "当文字的颜色与词义不一致时，词义会对反应时间产生干扰。1935年 John Ridley Stroop 发表了文章以后，该现象就被称为斯特鲁普效应（Stroop effect）[1]。具体的实验是：说出文字的颜色，而不是文字本身。比如“红色”这两个字以蓝色印刷（\"RED\" is printed in a blue colour），这时参与者读出“蓝色”（BLUE）[2]。当文字的字义与印刷的颜色一致时，称为 Congruent；不一致时，称为 Incongruent。实验发现 Incogruent 的时候，参与者阅读的时间更长，因此实验的结论是词义（semantic meaning）对颜色的识别产生了干扰，称为词义干扰（semantic interference）。"
   ]
  },
  {
   "cell_type": "markdown",
   "metadata": {},
   "source": [
    "### 1.2 本项目总览 Project overview \n",
    "\n",
    "现有一份斯特鲁普效应的实验数据（随文件所带）。在此基础上拟进行的工作包括：\n",
    "\n",
    "* 描述性统计\n",
    "  * 用描述统计的方法分析实验数据\n",
    "* 推论统计\n",
    "  * 建立假设\n",
    "  * 用样本数据进行假设检验\n",
    "  * 得出检验结果\n",
    "* 结论部分"
   ]
  },
  {
   "cell_type": "markdown",
   "metadata": {},
   "source": [
    "## 2. 描述性统计 Descriptive statistics\n",
    "\n",
    "两种实验数据，一种是 Congruent （词义与颜色一致），另一种是 Incongruent（词义与颜色不一致）。\n",
    "\n",
    "为了进行后面的工作，先引入必要的 Python 包。"
   ]
  },
  {
   "cell_type": "code",
   "execution_count": 1,
   "metadata": {
    "collapsed": true
   },
   "outputs": [],
   "source": [
    "import numpy as np\n",
    "import pandas as pd\n",
    "%matplotlib inline\n",
    "import matplotlib.pyplot as plt\n",
    "import seaborn as sns\n",
    "import scipy.stats as stats"
   ]
  },
  {
   "cell_type": "markdown",
   "metadata": {},
   "source": [
    "用 pandas 读入数据文件："
   ]
  },
  {
   "cell_type": "code",
   "execution_count": 2,
   "metadata": {
    "collapsed": true
   },
   "outputs": [],
   "source": [
    "stroop = pd.read_csv('stroopdata.csv')"
   ]
  },
  {
   "cell_type": "markdown",
   "metadata": {},
   "source": [
    "查看数据头部，确认数据读入正常："
   ]
  },
  {
   "cell_type": "code",
   "execution_count": 3,
   "metadata": {},
   "outputs": [
    {
     "data": {
      "text/html": [
       "<div>\n",
       "<style>\n",
       "    .dataframe thead tr:only-child th {\n",
       "        text-align: right;\n",
       "    }\n",
       "\n",
       "    .dataframe thead th {\n",
       "        text-align: left;\n",
       "    }\n",
       "\n",
       "    .dataframe tbody tr th {\n",
       "        vertical-align: top;\n",
       "    }\n",
       "</style>\n",
       "<table border=\"1\" class=\"dataframe\">\n",
       "  <thead>\n",
       "    <tr style=\"text-align: right;\">\n",
       "      <th></th>\n",
       "      <th>Congruent</th>\n",
       "      <th>Incongruent</th>\n",
       "    </tr>\n",
       "  </thead>\n",
       "  <tbody>\n",
       "    <tr>\n",
       "      <th>0</th>\n",
       "      <td>12.079</td>\n",
       "      <td>19.278</td>\n",
       "    </tr>\n",
       "    <tr>\n",
       "      <th>1</th>\n",
       "      <td>16.791</td>\n",
       "      <td>18.741</td>\n",
       "    </tr>\n",
       "    <tr>\n",
       "      <th>2</th>\n",
       "      <td>9.564</td>\n",
       "      <td>21.214</td>\n",
       "    </tr>\n",
       "    <tr>\n",
       "      <th>3</th>\n",
       "      <td>8.630</td>\n",
       "      <td>15.687</td>\n",
       "    </tr>\n",
       "    <tr>\n",
       "      <th>4</th>\n",
       "      <td>14.669</td>\n",
       "      <td>22.803</td>\n",
       "    </tr>\n",
       "  </tbody>\n",
       "</table>\n",
       "</div>"
      ],
      "text/plain": [
       "   Congruent  Incongruent\n",
       "0     12.079       19.278\n",
       "1     16.791       18.741\n",
       "2      9.564       21.214\n",
       "3      8.630       15.687\n",
       "4     14.669       22.803"
      ]
     },
     "execution_count": 3,
     "metadata": {},
     "output_type": "execute_result"
    }
   ],
   "source": [
    "stroop.head()"
   ]
  },
  {
   "cell_type": "markdown",
   "metadata": {},
   "source": [
    "用 numpy 分别对 Congruent 与 Incongruent 数据进行处理："
   ]
  },
  {
   "cell_type": "code",
   "execution_count": 4,
   "metadata": {
    "collapsed": true
   },
   "outputs": [],
   "source": [
    "congruent = np.array(stroop['Congruent'])\n",
    "incongruent = np.array(stroop['Incongruent'])"
   ]
  },
  {
   "cell_type": "markdown",
   "metadata": {},
   "source": [
    "### 2.1 Congruent 部分数据描述性统计\n",
    "\n",
    "**统计性描述结果：**"
   ]
  },
  {
   "cell_type": "code",
   "execution_count": 5,
   "metadata": {},
   "outputs": [
    {
     "name": "stdout",
     "output_type": "stream",
     "text": [
      "----- Congruent 部分 -----\n",
      "平均阅读时间（mean）： 14.051125\n",
      "方差（variance）： 12.6690290707\n",
      "标准差（standard deviation）： 3.55935795765\n",
      "最小值（min）： 8.63\n",
      "最大值（max）： 22.328\n",
      "第一四分位数（25th percentile）： 11.89525\n",
      "中位数（median）： 14.3565\n",
      "第三四分位数（75th percentile）： 16.20075\n",
      "样本数量（sample size）： 24\n"
     ]
    }
   ],
   "source": [
    "print(\"-\"*5,\"Congruent 部分\",\"-\"*5)\n",
    "print(\"平均阅读时间（mean）：\", congruent.mean())\n",
    "print(\"方差（variance）：\", congruent.var(ddof=1))  # ddof=1，表示除以 n-1\n",
    "print(\"标准差（standard deviation）：\", congruent.std(ddof=1))\n",
    "print(\"最小值（min）：\", congruent.min())\n",
    "print(\"最大值（max）：\", congruent.max())\n",
    "print(\"第一四分位数（25th percentile）：\", np.percentile(congruent, 25))\n",
    "print(\"中位数（median）：\", np.median(congruent))\n",
    "print(\"第三四分位数（75th percentile）：\", np.percentile(congruent, 75))\n",
    "print(\"样本数量（sample size）：\", congruent.size)"
   ]
  },
  {
   "cell_type": "markdown",
   "metadata": {},
   "source": [
    "**数据的分布用盒形图（box plot）视觉化，没有出现异常值（outlier）。数据呈现正偏斜。**"
   ]
  },
  {
   "cell_type": "code",
   "execution_count": 6,
   "metadata": {},
   "outputs": [
    {
     "data": {
      "text/plain": [
       "<matplotlib.axes._subplots.AxesSubplot at 0x10bb55eb8>"
      ]
     },
     "execution_count": 6,
     "metadata": {},
     "output_type": "execute_result"
    },
    {
     "data": {
      "image/png": "[encoded data removed]",
      "text/plain": [
       "<matplotlib.figure.Figure at 0x10bb55470>"
      ]
     },
     "metadata": {},
     "output_type": "display_data"
    }
   ],
   "source": [
    "sns.boxplot(data=stroop['Congruent'], orient='h')"
   ]
  },
  {
   "cell_type": "markdown",
   "metadata": {},
   "source": [
    "**直方图发现 Congruent 的样本数据接近正态分布，有一定程度的正偏斜（positive skewed）**"
   ]
  },
  {
   "cell_type": "code",
   "execution_count": 7,
   "metadata": {},
   "outputs": [
    {
     "data": {
      "text/plain": [
       "<matplotlib.axes._subplots.AxesSubplot at 0x10bbac2b0>"
      ]
     },
     "execution_count": 7,
     "metadata": {},
     "output_type": "execute_result"
    },
    {
     "data": {
      "image/png": "[encoded data removed]",
      "text/plain": [
       "<matplotlib.figure.Figure at 0x10bd4d320>"
      ]
     },
     "metadata": {},
     "output_type": "display_data"
    }
   ],
   "source": [
    "sns.distplot(stroop['Congruent'])"
   ]
  },
  {
   "cell_type": "markdown",
   "metadata": {},
   "source": [
    "**用 rug 图也可以看见数据在 10-15 区间的密度较大。**"
   ]
  },
  {
   "cell_type": "code",
   "execution_count": 8,
   "metadata": {},
   "outputs": [
    {
     "data": {
      "text/plain": [
       "<matplotlib.axes._subplots.AxesSubplot at 0x10bdcef28>"
      ]
     },
     "execution_count": 8,
     "metadata": {},
     "output_type": "execute_result"
    },
    {
     "data": {
      "image/png": "[encoded data removed]",
      "text/plain": [
       "<matplotlib.figure.Figure at 0x10bd4de80>"
      ]
     },
     "metadata": {},
     "output_type": "display_data"
    }
   ],
   "source": [
    "sns.distplot(stroop['Congruent'], hist=False, rug=True)"
   ]
  },
  {
   "cell_type": "markdown",
   "metadata": {},
   "source": [
    "Congruent 数据最终确定样本数量是 24，具体数据如下。"
   ]
  },
  {
   "cell_type": "code",
   "execution_count": 9,
   "metadata": {},
   "outputs": [
    {
     "name": "stdout",
     "output_type": "stream",
     "text": [
      "[ 12.079  16.791   9.564   8.63   14.669  12.238  14.692   8.987   9.401\n",
      "  14.48   22.328  15.298  15.073  16.929  18.2    12.13   18.495  10.639\n",
      "  11.344  12.369  12.944  14.233  19.71   16.004]\n",
      "Congruent sample size:  24\n"
     ]
    }
   ],
   "source": [
    "print(congruent)\n",
    "print(\"Congruent sample size: \", congruent.size)"
   ]
  },
  {
   "cell_type": "markdown",
   "metadata": {},
   "source": [
    "### 2.2 Incongruent 部分数据描述性统计\n",
    "\n",
    "**统计性描述结果：**"
   ]
  },
  {
   "cell_type": "code",
   "execution_count": 10,
   "metadata": {},
   "outputs": [
    {
     "name": "stdout",
     "output_type": "stream",
     "text": [
      "----- Incongruent 部分 -----\n",
      "平均阅读时间： 22.0159166667\n",
      "方差： 23.0117570362\n",
      "标准差： 4.79705712247\n",
      "最小值： 15.687\n",
      "最大值： 35.255\n",
      "第一四分位数 18.71675\n",
      "中位数： 21.0175\n",
      "第三四分位数 24.0515\n",
      "样本数据： 24\n"
     ]
    }
   ],
   "source": [
    "print(\"-\"*5,\"Incongruent 部分\",\"-\"*5)\n",
    "print(\"平均阅读时间：\", incongruent.mean())\n",
    "print(\"方差：\", incongruent.var(ddof=1))\n",
    "print(\"标准差：\", incongruent.std(ddof=1))\n",
    "print(\"最小值：\", incongruent.min())\n",
    "print(\"最大值：\", incongruent.max())\n",
    "print(\"第一四分位数\", np.percentile(incongruent, 25))\n",
    "print(\"中位数：\", np.median(incongruent))\n",
    "print(\"第三四分位数\", np.percentile(incongruent, 75))\n",
    "print(\"样本数据：\", incongruent.size)"
   ]
  },
  {
   "cell_type": "markdown",
   "metadata": {},
   "source": [
    "**盒形图中发现 Incongruent 数据中最大的两个值是异常值**"
   ]
  },
  {
   "cell_type": "code",
   "execution_count": 11,
   "metadata": {},
   "outputs": [
    {
     "data": {
      "text/plain": [
       "<matplotlib.axes._subplots.AxesSubplot at 0x10be046a0>"
      ]
     },
     "execution_count": 11,
     "metadata": {},
     "output_type": "execute_result"
    },
    {
     "data": {
      "image/png": "[encoded data removed]",
      "text/plain": [
       "<matplotlib.figure.Figure at 0x10bf66048>"
      ]
     },
     "metadata": {},
     "output_type": "display_data"
    }
   ],
   "source": [
    "sns.boxplot(data=stroop['Incongruent'], orient='h')"
   ]
  },
  {
   "cell_type": "markdown",
   "metadata": {},
   "source": [
    "用直方图发现出现了两个峰。"
   ]
  },
  {
   "cell_type": "code",
   "execution_count": 12,
   "metadata": {},
   "outputs": [
    {
     "data": {
      "text/plain": [
       "<matplotlib.axes._subplots.AxesSubplot at 0x10bf9f1d0>"
      ]
     },
     "execution_count": 12,
     "metadata": {},
     "output_type": "execute_result"
    },
    {
     "data": {
      "image/png": "[encoded data removed]",
      "text/plain": [
       "<matplotlib.figure.Figure at 0x10c1b2828>"
      ]
     },
     "metadata": {},
     "output_type": "display_data"
    }
   ],
   "source": [
    "sns.distplot(stroop['Incongruent'])"
   ]
  },
  {
   "cell_type": "markdown",
   "metadata": {},
   "source": [
    "较小的峰是由两个异常值产生的。"
   ]
  },
  {
   "cell_type": "code",
   "execution_count": 13,
   "metadata": {},
   "outputs": [
    {
     "data": {
      "text/plain": [
       "<matplotlib.axes._subplots.AxesSubplot at 0x10c2b5780>"
      ]
     },
     "execution_count": 13,
     "metadata": {},
     "output_type": "execute_result"
    },
    {
     "data": {
      "image/png": "[encoded data removed]",
      "text/plain": [
       "<matplotlib.figure.Figure at 0x10bf9f9e8>"
      ]
     },
     "metadata": {},
     "output_type": "display_data"
    }
   ],
   "source": [
    "sns.distplot(stroop['Incongruent'], hist=False, rug=True)"
   ]
  },
  {
   "cell_type": "markdown",
   "metadata": {},
   "source": [
    "Incongruent 数据最终确定样本数量是 24，具体数据如下。"
   ]
  },
  {
   "cell_type": "code",
   "execution_count": 14,
   "metadata": {},
   "outputs": [
    {
     "name": "stdout",
     "output_type": "stream",
     "text": [
      "[ 19.278  18.741  21.214  15.687  22.803  20.878  24.572  17.394  20.762\n",
      "  26.282  24.524  18.644  17.51   20.33   35.255  22.158  25.139  20.429\n",
      "  17.425  34.288  23.894  17.96   22.058  21.157]\n",
      "Incongruent sample size:  24\n"
     ]
    }
   ],
   "source": [
    "print(incongruent)\n",
    "print(\"Incongruent sample size: \", incongruent.size)"
   ]
  },
  {
   "cell_type": "markdown",
   "metadata": {},
   "source": [
    "### 2.3 描述性统计部分总结 Conclusion of descriptive statistics part\n",
    "对斯特鲁普效应实验的数据进行了描述性统计分析。用盒形图发现 Incongruent 在最大值方向有两个异常值。用 removeOutliers 函数删除了异常值，并形成新的 numpy array。\n",
    "\n",
    "最终得到两个数组如下所示。后面的推论统计部分将在这两个数据的基础上进行。"
   ]
  },
  {
   "cell_type": "code",
   "execution_count": 15,
   "metadata": {},
   "outputs": [
    {
     "data": {
      "text/plain": [
       "array([ 12.079,  16.791,   9.564,   8.63 ,  14.669,  12.238,  14.692,\n",
       "         8.987,   9.401,  14.48 ,  22.328,  15.298,  15.073,  16.929,\n",
       "        18.2  ,  12.13 ,  18.495,  10.639,  11.344,  12.369,  12.944,\n",
       "        14.233,  19.71 ,  16.004])"
      ]
     },
     "execution_count": 15,
     "metadata": {},
     "output_type": "execute_result"
    }
   ],
   "source": [
    "congruent"
   ]
  },
  {
   "cell_type": "code",
   "execution_count": 16,
   "metadata": {},
   "outputs": [
    {
     "data": {
      "text/plain": [
       "array([ 19.278,  18.741,  21.214,  15.687,  22.803,  20.878,  24.572,\n",
       "        17.394,  20.762,  26.282,  24.524,  18.644,  17.51 ,  20.33 ,\n",
       "        35.255,  22.158,  25.139,  20.429,  17.425,  34.288,  23.894,\n",
       "        17.96 ,  22.058,  21.157])"
      ]
     },
     "execution_count": 16,
     "metadata": {},
     "output_type": "execute_result"
    }
   ],
   "source": [
    "incongruent"
   ]
  },
  {
   "cell_type": "markdown",
   "metadata": {},
   "source": [
    "## 3. 推论统计 Inference statistics"
   ]
  },
  {
   "cell_type": "markdown",
   "metadata": {},
   "source": [
    "### 3.1 结论预览 Preview of conclusion\n",
    "双样本的零假设为两种实验结果一样。T检验结果表明：实验结果的 t 值为-7.16，实验结果一致的概率 P = 7.30e-9，远小于 0.1%。即使按照 99.9% 的要求，零假设也被拒绝。结论意味着两种实验的结果并不一致，Congruent 实验的平均阅读时间确实小于 Incongruent 的平均阅读时间。"
   ]
  },
  {
   "cell_type": "code",
   "execution_count": 17,
   "metadata": {},
   "outputs": [
    {
     "data": {
      "text/plain": [
       "Ttest_indResult(statistic=-6.5322505539032285, pvalue=6.5101673904426379e-08)"
      ]
     },
     "execution_count": 17,
     "metadata": {},
     "output_type": "execute_result"
    }
   ],
   "source": [
    "stats.ttest_ind(a= congruent,\n",
    "                b= incongruent,\n",
    "                equal_var=False)"
   ]
  },
  {
   "cell_type": "markdown",
   "metadata": {},
   "source": [
    "下面按照推论统计的步骤详细推导。"
   ]
  },
  {
   "cell_type": "markdown",
   "metadata": {},
   "source": [
    "### 3.2 推论统计具体步骤（包含异常值）  Detailed inference statistics (with outliers)\n",
    "先考虑排除异常值的情况。 \n",
    "\n",
    "详细的推论统计步骤包括：\n",
    "* (A) 假设检验\n",
    "    * (A-1) 识别因变量与处理条件\n",
    "        * 因变量 (dependent variable)\n",
    "        * 处理条件 (treatment)\n",
    "    * (A-2) 建立假设\n",
    "        * 零假设 (null hypothesis)\n",
    "        * 备择假设 (alternative hypothesis)\n",
    "        * 假设类型 (type of hypothesis)\n",
    "    * (A-3) 找到 t-critical\n",
    "        * 选择检验方式\n",
    "        * 设定alpha值 (alpha leve)\n",
    "        * 计算自由度 (degree of freedom)\n",
    "        * 获得 t-critical\n",
    "    * (A-4) 计算 t-statistic\n",
    "        * 计算两种样本的平均值 (mean)\n",
    "        * 找到两种样本大小 (sample size)\n",
    "        * 计算两种样本的方差之和 (sum of variance)\n",
    "        * 获得合并方差 (pooled variance)\n",
    "        * 计算标准误差 (standard error)\n",
    "        * 得到样本的 t 值 (t-statistic)\n",
    "    * (A-5) 对比 t 值，得出检验结论\n",
    "* (B) 置信区间 (confidence interval)\n",
    "    * (B-1) 误差范围 (margin of error)\n",
    "    * (B-2) 置信区间 (CI)\n",
    "* (C) 测量效应强度 (effect size measures)\n",
    "    * (C-1) 相关性分析 (correlation)   "
   ]
  },
  {
   "cell_type": "markdown",
   "metadata": {
    "collapsed": true
   },
   "source": [
    "#### (A) 假设检验\n",
    "##### (A-1) 识别因变量与处理条件\n",
    "###### 因变量 (dependent variable)\n",
    "参与者识别出颜色的总时间。\n",
    "###### 自变量 (independent variable)\n",
    "自变量是实验的种类，具体而言是实验中颜色与词义是否一致。颜色与词义一致时，称为 Congruent；不一致时则是 Incongruent。\n",
    "###### 相依样本\n",
    "本实验为相依样本，即对于不同种类的配对实验的结果差异对比。\n"
   ]
  },
  {
   "cell_type": "markdown",
   "metadata": {},
   "source": [
    "##### (A-2) 建立假设"
   ]
  },
  {
   "cell_type": "markdown",
   "metadata": {},
   "source": [
    "###### 零假设 (null hypothesis)\n",
    "词义与颜色是否一致，都不会影响阅读者识别颜色的时间。其中 $\\mu_{1}$表示 Congruent 样本的平均时间， $\\mu_{2}$ 表示 Incongruent 样本的平均时间。\n"
   ]
  },
  {
   "cell_type": "markdown",
   "metadata": {},
   "source": [
    "$$\n",
    "\\begin{equation*}\n",
    "H_{0}: \\mu_{1} - \\mu{2} = 0\n",
    "\\end{equation*}\n",
    "$$"
   ]
  },
  {
   "cell_type": "markdown",
   "metadata": {},
   "source": [
    "###### 备择假设 (alternative hypothesis)\n",
    "词义与颜色不一致，就会影响阅读者识别颜色的时间。"
   ]
  },
  {
   "cell_type": "markdown",
   "metadata": {},
   "source": [
    "$$\n",
    "\\begin{equation*}\n",
    "H_{A}: \\mu_{1} - \\mu{2} \\neq 0\n",
    "\\end{equation*}\n",
    "$$"
   ]
  },
  {
   "cell_type": "markdown",
   "metadata": {},
   "source": [
    "###### 选择检验方式：T检验\n",
    "该项目选择T检验而不是Z检验。判断选择Z检验还是T检验的标准主要有两点：首先是否能够获取总体标准差，其次实验样本数量小于30。如果没有总体标准差的情况，选择T检验。即使有了总体标准差，如果样本数量小于30，也是选择T检验。\n",
    "\n",
    "本项目的总体标准差位置，并且单个实验的样本数量也是小于30。因此选择T检验。"
   ]
  },
  {
   "cell_type": "markdown",
   "metadata": {},
   "source": [
    "###### 假设类型 (hypothesis type)：双尾检验\n",
    "双尾检验 (two-tailed test)。当 p 落入概率密度曲线两侧的 critical region 时，判定检测统计上显著。单位检验在skewed的分布上，产生error的可能性较高，而本项目中样本数据有一定程度的skewed，因此选择双尾检验。"
   ]
  },
  {
   "cell_type": "markdown",
   "metadata": {},
   "source": [
    "##### (A-3) 找到 t-critical"
   ]
  },
  {
   "cell_type": "markdown",
   "metadata": {},
   "source": [
    "###### 设定alpha值 (alpha leve)\n"
   ]
  },
  {
   "cell_type": "markdown",
   "metadata": {},
   "source": [
    "$$\n",
    "\\begin{equation*}\n",
    "\\alpha = 0.05\n",
    "\\end{equation*}\n",
    "$$"
   ]
  },
  {
   "cell_type": "markdown",
   "metadata": {},
   "source": [
    "###### 计算自由度 (degree of freedom)\n",
    "这里不剔除 outliers，所以样本数量$n_{1}$与$n_{2}$都是24。"
   ]
  },
  {
   "cell_type": "markdown",
   "metadata": {},
   "source": [
    "$$\n",
    "\\begin{equation*}\n",
    "df = n_{1} + n_{2} - 2 = 24 + 24 - 2 = 46\n",
    "\\end{equation*}\n",
    "$$"
   ]
  },
  {
   "cell_type": "markdown",
   "metadata": {},
   "source": [
    "###### 获得 t-critical\n",
    "根据以上两个条件，使用 [GraphPad](http://www.graphpad.com/quickcalcs/) 的计算："
   ]
  },
  {
   "cell_type": "markdown",
   "metadata": {},
   "source": [
    "$$\n",
    "\\begin{equation*}\n",
    "t_{critical} = \\pm2.0129\n",
    "\\end{equation*}\n",
    "$$"
   ]
  },
  {
   "cell_type": "markdown",
   "metadata": {},
   "source": [
    "##### (A-4) 计算 t-statistic\n",
    "###### 计算两种样本的平均值 (mean)\n",
    "根据描述性统计的结果，把两个样本的算术平均值四舍五入到小数点后两位得到："
   ]
  },
  {
   "cell_type": "code",
   "execution_count": 19,
   "metadata": {},
   "outputs": [
    {
     "name": "stdout",
     "output_type": "stream",
     "text": [
      "Mean of sample Congruent: 14.051125\n",
      "Mean of sample Incongruent: 22.0159166667\n"
     ]
    }
   ],
   "source": [
    "x = congruent.mean() # mean of sample Congruent\n",
    "y = incongruent.mean() # mean of sample Incongruent\n",
    "print (\"Mean of sample Congruent:\", x)\n",
    "print (\"Mean of sample Incongruent:\", y)"
   ]
  },
  {
   "cell_type": "markdown",
   "metadata": {},
   "source": [
    "$$\n",
    "\\begin{equation*}\n",
    "\\bar{x} = 14.051125 \\\\\n",
    "\\bar{y} = 22.0159166667\n",
    "\\end{equation*}\n",
    "$$"
   ]
  },
  {
   "cell_type": "markdown",
   "metadata": {},
   "source": [
    "样本的均值差 (mean difference) 为："
   ]
  },
  {
   "cell_type": "code",
   "execution_count": 21,
   "metadata": {},
   "outputs": [
    {
     "name": "stdout",
     "output_type": "stream",
     "text": [
      "Differences of two samples: [  7.199   1.95   11.65    7.057   8.134   8.64    9.88    8.407  11.361\n",
      "  11.802   2.196   3.346   2.437   3.401  17.055  10.028   6.644   9.79\n",
      "   6.081  21.919  10.95    3.727   2.348   5.153]\n"
     ]
    }
   ],
   "source": [
    "dif_array = incongruent - congruent\n",
    "print (\"Differences of two samples:\", dif_array)"
   ]
  },
  {
   "cell_type": "markdown",
   "metadata": {},
   "source": [
    "$$\n",
    "\\begin{equation*}\n",
    "d_{i} = y_{i} - x_{i}\n",
    "\\end{equation*}\n",
    "$$"
   ]
  },
  {
   "cell_type": "code",
   "execution_count": 30,
   "metadata": {},
   "outputs": [
    {
     "name": "stdout",
     "output_type": "stream",
     "text": [
      "The mean difference: 7.96479166667\n"
     ]
    }
   ],
   "source": [
    "dif_mean = dif_array.mean()\n",
    "print(\"The mean difference:\", dif_mean)"
   ]
  },
  {
   "cell_type": "markdown",
   "metadata": {},
   "source": [
    "###### 找到两种样本大小 (sample size)\n"
   ]
  },
  {
   "cell_type": "code",
   "execution_count": 31,
   "metadata": {},
   "outputs": [
    {
     "name": "stdout",
     "output_type": "stream",
     "text": [
      "Congruent sample size, n1: 24\n",
      "Incongruent sample size, n2: 24\n"
     ]
    }
   ],
   "source": [
    "n1 = congruent.size\n",
    "n2 = incongruent.size\n",
    "print(\"Congruent sample size, n1:\", n1)\n",
    "print(\"Incongruent sample size, n2:\", n2)"
   ]
  },
  {
   "cell_type": "markdown",
   "metadata": {},
   "source": [
    "$$\n",
    "\\begin{equation*}\n",
    "n_{1} = 24 \\\\\n",
    "n_{2} = 24\n",
    "\\end{equation*}\n",
    "$$"
   ]
  },
  {
   "cell_type": "markdown",
   "metadata": {},
   "source": [
    "###### 计算 diffrences 的标准差"
   ]
  },
  {
   "cell_type": "code",
   "execution_count": 32,
   "metadata": {},
   "outputs": [
    {
     "name": "stdout",
     "output_type": "stream",
     "text": [
      "The standard deviation of the differences： 4.86482691036\n"
     ]
    }
   ],
   "source": [
    "sd = dif_array.std(ddof=1)  # ddof, use \"n-1\" to calculate standard deviation\n",
    "print(\"The standard deviation of the differences：\", sd)"
   ]
  },
  {
   "cell_type": "markdown",
   "metadata": {},
   "source": [
    "###### Standard error of the mean difference"
   ]
  },
  {
   "cell_type": "code",
   "execution_count": 33,
   "metadata": {},
   "outputs": [
    {
     "name": "stdout",
     "output_type": "stream",
     "text": [
      "The size of difference array: 24\n",
      "The SE (standard error of the mean difference): 0.993028634778\n"
     ]
    }
   ],
   "source": [
    "import math\n",
    "n = dif_array.size\n",
    "print(\"The size of difference array:\", n)\n",
    "se = sd/(math.sqrt(n))\n",
    "print(\"The SE (standard error of the mean difference):\", se)"
   ]
  },
  {
   "cell_type": "markdown",
   "metadata": {},
   "source": [
    "$$\n",
    "\\begin{equation*}\n",
    "SE(\\bar{d}) = \\frac{s_{d}}{\\sqrt{n}} \\\\\n",
    "\\end{equation*}\n",
    "$$"
   ]
  },
  {
   "cell_type": "markdown",
   "metadata": {},
   "source": [
    "###### 得到样本的 t 值 (t-statistic)"
   ]
  },
  {
   "cell_type": "code",
   "execution_count": 34,
   "metadata": {},
   "outputs": [
    {
     "name": "stdout",
     "output_type": "stream",
     "text": [
      "t-statistic: 8.02070694411\n"
     ]
    }
   ],
   "source": [
    "t_statistic = dif_mean / se\n",
    "print(\"t-statistic:\", t_statistic)"
   ]
  },
  {
   "cell_type": "markdown",
   "metadata": {},
   "source": [
    "$$\n",
    "\\begin{equation*}\n",
    "t_{statistic} = 8.02070694411\n",
    "\\end{equation*}\n",
    "$$"
   ]
  },
  {
   "cell_type": "markdown",
   "metadata": {},
   "source": [
    "该值远大于$t_{critical}=2.0129$，所以在统计上显著。"
   ]
  },
  {
   "cell_type": "markdown",
   "metadata": {},
   "source": [
    "##### (A-5) 对比 t 值，得出检验结论\n",
    "对比 $t_{statistic} = 8.0207$ 与 $t_{critical} = \\pm2.0129$ ，发现 $t_{statistic}$ 值已经落入了临界区域 (critical region)。\n",
    "\n",
    "同样通过$t_{statistic}$ 与自由度 $df = 44$ 也可以得到双尾检测的P值小于 0.001。因此我们可以认为两个样本的t-检验 (two-sample t-test) 在统计上显著，结论是拒绝零假设。\n",
    "\n"
   ]
  },
  {
   "cell_type": "markdown",
   "metadata": {},
   "source": [
    "$$\n",
    "\\begin{equation*}\n",
    "Result: Reject\\;H_{0}\n",
    "\\end{equation*}\n",
    "$$"
   ]
  },
  {
   "cell_type": "markdown",
   "metadata": {},
   "source": [
    "#### (B) 置信区间 (confidence interval)"
   ]
  },
  {
   "cell_type": "markdown",
   "metadata": {},
   "source": [
    "##### (B-1) 误差范围 (margin of error)"
   ]
  },
  {
   "cell_type": "code",
   "execution_count": 35,
   "metadata": {},
   "outputs": [
    {
     "name": "stdout",
     "output_type": "stream",
     "text": [
      "Margin of error 1.99886733895\n"
     ]
    }
   ],
   "source": [
    "t_critical = 2.0129\n",
    "margin_of_error = t_critical * se \n",
    "print(\"Margin of error\", margin_of_error)"
   ]
  },
  {
   "cell_type": "markdown",
   "metadata": {},
   "source": [
    "$$\n",
    "\\begin{equation*}\n",
    "margin\\;of\\;error = (t_{critical} \\times S_{\\bar{X}-\\bar{Y}} ) =  2.0154 \\times 0.96 = 1.9989\n",
    "\\end{equation*}\n",
    "$$"
   ]
  },
  {
   "cell_type": "markdown",
   "metadata": {},
   "source": [
    "#### (B-2) 置信区间 (CI)"
   ]
  },
  {
   "cell_type": "code",
   "execution_count": 36,
   "metadata": {},
   "outputs": [
    {
     "name": "stdout",
     "output_type": "stream",
     "text": [
      "Upper bound is 9.96365900561\n",
      "Lower bound is 5.96592432772\n"
     ]
    }
   ],
   "source": [
    "upper_bound = dif_mean + margin_of_error\n",
    "lower_bound = dif_mean - margin_of_error\n",
    "print (\"Upper bound is\", upper_bound)\n",
    "print (\"Lower bound is\", lower_bound)"
   ]
  },
  {
   "cell_type": "markdown",
   "metadata": {},
   "source": [
    "置信区间 (CI) 是 (5.9659, 9.9637)"
   ]
  },
  {
   "cell_type": "markdown",
   "metadata": {},
   "source": [
    "#### (C) 测量效应强度 (effect size measures)\n"
   ]
  },
  {
   "cell_type": "markdown",
   "metadata": {},
   "source": [
    "##### (C-1) 相关性分析 (correlation)"
   ]
  },
  {
   "cell_type": "code",
   "execution_count": 37,
   "metadata": {},
   "outputs": [
    {
     "name": "stdout",
     "output_type": "stream",
     "text": [
      "The correlation is 0.583075549713\n"
     ]
    }
   ],
   "source": [
    "correlation = (t_statistic ** 2)/((t_statistic ** 2) + (n1 + n2 - 2))\n",
    "print(\"The correlation is\", correlation)"
   ]
  },
  {
   "cell_type": "markdown",
   "metadata": {},
   "source": [
    "$$\n",
    "\\begin{equation*}\n",
    "r^{2} = \\frac{t_{statistic}^2}{t_{statistic}^2 + df_{total}} = 0.5831 = 58.31\\%\n",
    "\\end{equation*}\n",
    "$$"
   ]
  },
  {
   "cell_type": "markdown",
   "metadata": {},
   "source": [
    "意味着两种实验结果不一致，其中58.31%的原因可以用实验条件的差异来解释。"
   ]
  },
  {
   "cell_type": "markdown",
   "metadata": {},
   "source": [
    "#### 推论统计总结（不含异常值）\n",
    "在推论统计部分，我们认为斯特鲁普效应实验中，词义与颜色的不一致可能会产生不同的结果。为了进行检验，进行了以下工作：\n",
    "* 自变量是实验的种类（词义与颜色一致为 Congruent，词义与颜色不一致为 Incongruent），因变量是阅读者按照要求读完材料的时间。\n",
    "* 建立零检验：两种实验的阅读时间相同；备择检验是时间不同。因此检验类型是双尾t检验。\n",
    "* 设定临界区域，临界值为0.05，得到临界t值为0.2019。\n",
    "* 计算双样本的统计t值是8.0207。\n",
    "* 样本统计t值已经落入临界区域，因此在统计上显著。\n",
    "* 结果是拒绝零检验。\n",
    "\n",
    "\n",
    "通过双样本t检验，在统计上不能认为斯特鲁普效应实验中的两种实验类型的结果一致。并且这种实验类型的不一致，可以解释58%的阅读时间不同。"
   ]
  },
  {
   "cell_type": "markdown",
   "metadata": {},
   "source": [
    "## 4. 结论 Conclusion"
   ]
  },
  {
   "cell_type": "markdown",
   "metadata": {},
   "source": [
    "斯特鲁普效应结论是词义会产生干扰。为了验证斯特鲁普效应，分别进行了两种实验：词义与文字颜色一致，以及词义与文字颜色一致。分别对两种实验的样本进行了描述性统计与推论性统计。在推论统计部分，以两种实验中阅读时间相同作为零假设，设定临界值alpha为0.05的水准，在经过双样本t检验以后，统计上显著地拒绝了零假设，即不能认为两种类型的实验阅读时间会一致。"
   ]
  }
 ],
 "metadata": {
  "kernelspec": {
   "display_name": "Python 3",
   "language": "python",
   "name": "python3"
  },
  "language_info": {
   "codemirror_mode": {
    "name": "ipython",
    "version": 3
   },
   "file_extension": ".py",
   "mimetype": "text/x-python",
   "name": "python",
   "nbconvert_exporter": "python",
   "pygments_lexer": "ipython3",
   "version": "3.5.3"
  }
 },
 "nbformat": 4,
 "nbformat_minor": 2
}
